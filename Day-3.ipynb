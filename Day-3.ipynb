{
 "cells": [
  {
   "cell_type": "code",
   "execution_count": 1,
   "id": "6cc13f2d-56b2-4240-b934-d560abf0e3a5",
   "metadata": {},
   "outputs": [],
   "source": [
    "## 1) create 3 functions \"show1()\",\"show2()\" and \"show3()\"\n",
    "## now define a function \"caller\" in such a way that it can accept any function as an argument and invoke the same.\n",
    "\n",
    "## invoke caller function by passing show1,show2 and show3\n",
    "\n"
   ]
  },
  {
   "cell_type": "code",
   "execution_count": 3,
   "id": "db729e84-f78c-4c6e-834f-04bd0a994935",
   "metadata": {},
   "outputs": [
    {
     "name": "stdout",
     "output_type": "stream",
     "text": [
      "Inside show1()\n",
      "Inside show2()\n",
      "Inside show3()\n"
     ]
    }
   ],
   "source": [
    "def show1():\n",
    "    print(\"Inside show1()\")\n",
    "\n",
    "def show2():\n",
    "    print(\"Inside show2()\")\n",
    "\n",
    "def show3():\n",
    "    print(\"Inside show3()\")\n",
    "\n",
    "def caller(func):\n",
    "    func()  \n",
    "caller(show1)\n",
    "caller(show2)\n",
    "caller(show3)\n"
   ]
  },
  {
   "cell_type": "code",
   "execution_count": 4,
   "id": "c990662e-4d41-45b3-ae47-b9119382c79d",
   "metadata": {},
   "outputs": [],
   "source": [
    "## 2) define nested function and show how will you invoke it."
   ]
  },
  {
   "cell_type": "code",
   "execution_count": 5,
   "id": "700756cd-41dd-49de-8ab4-2866d5d8b211",
   "metadata": {},
   "outputs": [
    {
     "name": "stdout",
     "output_type": "stream",
     "text": [
      "Outer function is called.\n",
      "Inner function is called.\n"
     ]
    }
   ],
   "source": [
    "def outer_function():\n",
    "    print(\"Outer function is called.\")\n",
    "    \n",
    "    def inner_function():\n",
    "        print(\"Inner function is called.\")\n",
    "\n",
    "    inner_function()\n",
    "\n",
    "outer_function()\n"
   ]
  },
  {
   "cell_type": "code",
   "execution_count": null,
   "id": "ed0b348c-08b6-4ddb-a2b8-defca11d84a5",
   "metadata": {},
   "outputs": [],
   "source": []
  }
 ],
 "metadata": {
  "kernelspec": {
   "display_name": "Python 3 (ipykernel)",
   "language": "python",
   "name": "python3"
  },
  "language_info": {
   "codemirror_mode": {
    "name": "ipython",
    "version": 3
   },
   "file_extension": ".py",
   "mimetype": "text/x-python",
   "name": "python",
   "nbconvert_exporter": "python",
   "pygments_lexer": "ipython3",
   "version": "3.11.5"
  }
 },
 "nbformat": 4,
 "nbformat_minor": 5
}
