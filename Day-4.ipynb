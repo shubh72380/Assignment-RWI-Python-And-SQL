{
 "cells": [
  {
   "cell_type": "code",
   "execution_count": 1,
   "id": "230d137d-b213-4b1f-af13-c3898f20c441",
   "metadata": {},
   "outputs": [],
   "source": [
    "##write a function to accept a number and return its square using\n",
    "\t##a) normal function\n",
    "\t##b) lambda"
   ]
  },
  {
   "cell_type": "code",
   "execution_count": 2,
   "id": "35d1396c-46ce-4e19-8bd3-f0efc30d88a1",
   "metadata": {},
   "outputs": [
    {
     "name": "stdin",
     "output_type": "stream",
     "text": [
      "Enter a number:  5\n"
     ]
    },
    {
     "name": "stdout",
     "output_type": "stream",
     "text": [
      "Square of 5.0 : 25.0\n"
     ]
    }
   ],
   "source": [
    "def square_normal(num):\n",
    "    return num * num\n",
    "\n",
    "number = float(input(\"Enter a number: \")) \n",
    "result = square_normal(number) \n",
    "print(\"Square of\", number, \":\", result)\n"
   ]
  },
  {
   "cell_type": "code",
   "execution_count": 3,
   "id": "66ef5674-c057-431a-9883-88fb7f439af8",
   "metadata": {},
   "outputs": [
    {
     "name": "stdin",
     "output_type": "stream",
     "text": [
      "Enter a number:  5\n"
     ]
    },
    {
     "name": "stdout",
     "output_type": "stream",
     "text": [
      "Square of 5.0 : 25.0\n"
     ]
    }
   ],
   "source": [
    "square_lambda = lambda num: num * num\n",
    "\n",
    "number = float(input(\"Enter a number: \")) \n",
    "result = square_lambda(number) \n",
    "print(\"Square of\", number, \":\", result)\n"
   ]
  },
  {
   "cell_type": "code",
   "execution_count": 4,
   "id": "271f2425-87b6-416a-9c2e-86f91078923c",
   "metadata": {},
   "outputs": [],
   "source": [
    "## 2) write a function to display \"Hello World\" using\n",
    "##\ta) normal function\n",
    "\t## b) lambda"
   ]
  },
  {
   "cell_type": "code",
   "execution_count": 13,
   "id": "7431b050-be5f-420d-aebf-4bf250a0beda",
   "metadata": {},
   "outputs": [
    {
     "name": "stdout",
     "output_type": "stream",
     "text": [
      "Hello World\n"
     ]
    }
   ],
   "source": [
    "def say_hello_normal():\n",
    "    print(\"Hello World Shubhankar ji\")\n",
    "\n",
    "# Call the normal function\n",
    "say_hello_normal()\n"
   ]
  },
  {
   "cell_type": "code",
   "execution_count": 14,
   "id": "2310d476-9389-44e9-a37c-7ce2142ab9f7",
   "metadata": {},
   "outputs": [
    {
     "name": "stdout",
     "output_type": "stream",
     "text": [
      "Hello World\n"
     ]
    }
   ],
   "source": [
    "say_hello_lambda = lambda: print(\"Hello World\")\n",
    "\n",
    "say_hello_lambda()\n"
   ]
  },
  {
   "cell_type": "code",
   "execution_count": 15,
   "id": "9fdc7bff-074b-459c-83a9-5b0ad982b963",
   "metadata": {},
   "outputs": [],
   "source": [
    "## 3) write a function with 2 arguments , second argument should be \"default argument\" and display them. Using\n",
    "\t## a) normal function \n",
    "## \tb) lambda"
   ]
  },
  {
   "cell_type": "code",
   "execution_count": 21,
   "id": "f2b4b5b5-a222-42d8-89fc-736a66f07be2",
   "metadata": {},
   "outputs": [
    {
     "name": "stdout",
     "output_type": "stream",
     "text": [
      "Argument 1: Value 1m me\n",
      "Argument 2: default\n"
     ]
    }
   ],
   "source": [
    "def display_args_normal(arg1, arg2=\"default\"):\n",
    "    print(\"Argument 1:\", arg1)\n",
    "    print(\"Argument 2:\", arg2)\n",
    "\n",
    "display_args_normal(\"Value 1m me\")\n",
    "\n"
   ]
  },
  {
   "cell_type": "code",
   "execution_count": 17,
   "id": "f3cf50e6-9422-49be-95ae-101c38a8a402",
   "metadata": {},
   "outputs": [
    {
     "name": "stdout",
     "output_type": "stream",
     "text": [
      "Argument 1: Value 1 \n",
      "Argument 2: default\n"
     ]
    }
   ],
   "source": [
    "display_args_lambda = lambda arg1, arg2=\"default\": print(\"Argument 1:\", arg1, \"\\nArgument 2:\", arg2)\n",
    "\n",
    "display_args_lambda(\"Value 1\")\n"
   ]
  },
  {
   "cell_type": "code",
   "execution_count": 18,
   "id": "fd430241-96a2-4b85-b806-6221af16b2fe",
   "metadata": {},
   "outputs": [],
   "source": [
    "## 4) write a function with variable no. of arguments and display them. Using\n",
    "##\ta) normal function\n",
    "##\tb) lambda"
   ]
  },
  {
   "cell_type": "code",
   "execution_count": 19,
   "id": "5afa0a12-74cf-4000-9703-d8e4d5b88196",
   "metadata": {},
   "outputs": [
    {
     "name": "stdout",
     "output_type": "stream",
     "text": [
      "Argument: Value 1\n",
      "Argument: Value 2\n",
      "Argument: Value 3\n"
     ]
    }
   ],
   "source": [
    "def display_args_normal(*args):\n",
    "    for arg in args:\n",
    "        print(\"Argument:\", arg)\n",
    "\n",
    "display_args_normal(\"Value 1\", \"Value 2\", \"Value 3\")\n"
   ]
  },
  {
   "cell_type": "code",
   "execution_count": 20,
   "id": "582162f0-22c9-4ff0-8cf3-a4e022647efa",
   "metadata": {},
   "outputs": [
    {
     "name": "stdout",
     "output_type": "stream",
     "text": [
      "Argument: Value 1\n",
      "Argument: Value 2\n",
      "Argument: Value 3\n"
     ]
    },
    {
     "data": {
      "text/plain": [
       "[None, None, None]"
      ]
     },
     "execution_count": 20,
     "metadata": {},
     "output_type": "execute_result"
    }
   ],
   "source": [
    "display_args_lambda = lambda *args: [print(\"Argument:\", arg) for arg in args]\n",
    "\n",
    "display_args_lambda(\"Value 1\", \"Value 2\", \"Value 3\")\n"
   ]
  },
  {
   "cell_type": "code",
   "execution_count": null,
   "id": "33b0970a-50fb-443d-8424-d9c5c12e3632",
   "metadata": {},
   "outputs": [],
   "source": []
  },
  {
   "cell_type": "code",
   "execution_count": null,
   "id": "06601ceb-d0c0-4059-90bc-ff961d1df8ca",
   "metadata": {},
   "outputs": [],
   "source": []
  },
  {
   "cell_type": "code",
   "execution_count": null,
   "id": "a4588975-b91a-450d-8899-defe1e505356",
   "metadata": {},
   "outputs": [],
   "source": []
  }
 ],
 "metadata": {
  "kernelspec": {
   "display_name": "Python 3 (ipykernel)",
   "language": "python",
   "name": "python3"
  },
  "language_info": {
   "codemirror_mode": {
    "name": "ipython",
    "version": 3
   },
   "file_extension": ".py",
   "mimetype": "text/x-python",
   "name": "python",
   "nbconvert_exporter": "python",
   "pygments_lexer": "ipython3",
   "version": "3.11.5"
  }
 },
 "nbformat": 4,
 "nbformat_minor": 5
}
