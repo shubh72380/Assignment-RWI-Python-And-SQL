{
 "cells": [
  {
   "cell_type": "markdown",
   "id": "3aaeef47-3fed-4b4d-bd16-a3776a565cc5",
   "metadata": {},
   "source": [
    "##1) Create a multi-level inheritance , override default constructors in the child classes , instantiate the child class and show how will u invoke parent class constructor from child class ?\r\n"
   ]
  },
  {
   "cell_type": "code",
   "execution_count": 2,
   "id": "a4602620-56c9-4198-a4e8-f9259233e8ec",
   "metadata": {},
   "outputs": [
    {
     "name": "stdout",
     "output_type": "stream",
     "text": [
      "Grandparent constructor called\n",
      "Parent constructor called\n",
      "Child constructor called\n"
     ]
    }
   ],
   "source": [
    "class THIS_Grandparent:\n",
    "    def __init__(self):\n",
    "        print(\"Grandparent constructor called\")\n",
    "\n",
    "class THIS_Parent(Grandparent):\n",
    "    def __init__(self):\n",
    "        super().__init__()  \n",
    "        print(\"Parent constructor called\")\n",
    "\n",
    "class THIS_Child(Parent):\n",
    "    def __init__(self):\n",
    "        super().__init__() \n",
    "        print(\"Child constructor called\")\n",
    "\n",
    "child_obj = Child()\n"
   ]
  },
  {
   "cell_type": "code",
   "execution_count": 3,
   "id": "70165b27-9260-4543-bca1-21955ef86e18",
   "metadata": {},
   "outputs": [],
   "source": [
    "##2) create a class \"Vehicle\", define a method \"public void start()\" in it. From this class derive a class FourWheeler. How will u override \"start()\" method of parent class ?\n"
   ]
  },
  {
   "cell_type": "code",
   "execution_count": 7,
   "id": "c45fa505-6713-4f36-8d7e-0544a54e7eff",
   "metadata": {},
   "outputs": [
    {
     "name": "stdout",
     "output_type": "stream",
     "text": [
      "Vehicle started\n",
      "FourWheeler started\n"
     ]
    }
   ],
   "source": [
    "class Vehicle:\n",
    "    def start(self):\n",
    "        print(\"Vehicle started\")\n",
    "\n",
    "class FourWheeler(Vehicle):\n",
    "    def start(self):\n",
    "        super().start()  \n",
    "        print(\"FourWheeler started\")\n",
    "\n",
    "# Test the classes\n",
    "car = FourWheeler()\n",
    "car.start()  "
   ]
  },
  {
   "cell_type": "code",
   "execution_count": 8,
   "id": "ee5a2ee5-605c-4aba-bfc2-e50ce98a23c3",
   "metadata": {},
   "outputs": [],
   "source": [
    "##3) Go for Hierarchical inheritance, create instances of child class and observe constructor invocation"
   ]
  },
  {
   "cell_type": "code",
   "execution_count": 12,
   "id": "423e8557-c43f-451e-bd6c-c203d65e1163",
   "metadata": {},
   "outputs": [
    {
     "name": "stdout",
     "output_type": "stream",
     "text": [
      "Vehicle constructor called\n",
      "Car constructor called\n",
      "Vehicle constructor called\n",
      "Truck constructor called\n"
     ]
    }
   ],
   "source": [
    "class Shubhankar:\n",
    "    def __init__(self):\n",
    "        print(\"Shubhankar  constructor called\")\n",
    "\n",
    "class Car(Vehicle):\n",
    "    def __init__(self):\n",
    "        super().__init__()  \n",
    "        print(\"Car constructor called\")\n",
    "\n",
    "class Truck(Vehicle):\n",
    "    def __init__(self):\n",
    "        super().__init__()  \n",
    "        print(\"Truck constructor called\")\n",
    "\n",
    "car = Car()\n",
    "truck = Truck()\n",
    "\n"
   ]
  },
  {
   "cell_type": "code",
   "execution_count": 16,
   "id": "e8171ed5-b695-4054-9caa-cd728ca8d705",
   "metadata": {},
   "outputs": [
    {
     "data": {
      "text/plain": [
       "'\\n4) Create a class \"Top1\" with \"disp1()\" method.\\nFrom this class Derive \"Bottom1\", \"Bottom2\" and \"Bottom3\" classes ,override the \"disp1()\".\\ncreate a function \"perform\" which can take argument as object of any child class.\\nNow show how will u achieve dynamic polymorphism\"\"'"
      ]
     },
     "execution_count": 16,
     "metadata": {},
     "output_type": "execute_result"
    }
   ],
   "source": [
    "'''\n",
    "4) Create a class \"Top1\" with \"disp1()\" method.\n",
    "From this class Derive \"Bottom1\", \"Bottom2\" and \"Bottom3\" classes ,override the \"disp1()\".\n",
    "create a function \"perform\" which can take argument as object of any child class.\n",
    "Now show how will u achieve dynamic polymorphism\"\"'''"
   ]
  },
  {
   "cell_type": "code",
   "execution_count": 17,
   "id": "541d1234-1636-411a-84e8-0c5e652135b7",
   "metadata": {},
   "outputs": [
    {
     "name": "stdout",
     "output_type": "stream",
     "text": [
      "disp1() method of Bottom1\n",
      "disp1() method of Bottom2\n",
      "disp1() method of Bottom3\n"
     ]
    }
   ],
   "source": [
    "class Top1:\r\n",
    "    def disp1(self):\r\n",
    "        print(\"disp1() method of Top1\")\r\n",
    "\r\n",
    "class Bottom1(Top1):\r\n",
    "    def disp1(self):\r\n",
    "        print(\"disp1() method of Bottom1\")\r\n",
    "\r\n",
    "class Bottom2(Top1):\r\n",
    "    def disp1(self):\r\n",
    "        print(\"disp1() method of Bottom2\")\r\n",
    "\r\n",
    "class Bottom3(Top1):\r\n",
    "    def disp1(self):\r\n",
    "        print(\"disp1() method of Bottom3\")\r\n",
    "\r\n",
    "def perform(obj):\r\n",
    " os of child classes\r\n",
    "bottom1_obj = Bottom1()\r\n",
    "bottom2_obj = Bottom2()\r\n",
    "botdifferent child classedisp1() method of Botto disp1() method of Botte disp1() method of Bottom3\r\n"
   ]
  },
  {
   "cell_type": "code",
   "execution_count": 19,
   "id": "9ce006c9-4f5f-4690-b8b3-ae0315a3b905",
   "metadata": {},
   "outputs": [
    {
     "data": {
      "text/plain": [
       "'5) create Base class and Sub class with parameterized constructors. Show how will you invoke Base class parameterized constructor from Sub class.'"
      ]
     },
     "execution_count": 19,
     "metadata": {},
     "output_type": "execute_result"
    }
   ],
   "source": [
    "'''5) create Base class and Sub class with parameterized constructors. Show how will you invoke Base class parameterized constructor from Sub class.'''"
   ]
  },
  {
   "cell_type": "code",
   "execution_count": 20,
   "id": "b2d80c7e-219d-4e49-bc67-67e1cc0bc627",
   "metadata": {},
   "outputs": [
    {
     "name": "stdout",
     "output_type": "stream",
     "text": [
      "Base class constructor called with param: parameter\n",
      "Sub class constructor called with param: parameter\n"
     ]
    }
   ],
   "source": [
    "class Base:\n",
    "    def __init__(self, param):\n",
    "        self.param = param\n",
    "        print(\"Base class constructor called with param:\", self.param)\n",
    "\n",
    "class Sub(Base):\n",
    "    def __init__(self, param_sub):\n",
    "        super().__init__(param_sub)  \n",
    "        print(\"Sub class constructor called with param:\", param_sub)\n",
    "\n",
    "sub_obj = Sub(\"parameter\")\n",
    "\n",
    "\n"
   ]
  },
  {
   "cell_type": "code",
   "execution_count": null,
   "id": "1fd1413f-527b-48c3-b8fb-54de55b65fb7",
   "metadata": {},
   "outputs": [],
   "source": []
  }
 ],
 "metadata": {
  "kernelspec": {
   "display_name": "Python 3 (ipykernel)",
   "language": "python",
   "name": "python3"
  },
  "language_info": {
   "codemirror_mode": {
    "name": "ipython",
    "version": 3
   },
   "file_extension": ".py",
   "mimetype": "text/x-python",
   "name": "python",
   "nbconvert_exporter": "python",
   "pygments_lexer": "ipython3",
   "version": "3.11.5"
  }
 },
 "nbformat": 4,
 "nbformat_minor": 5
}
