{
 "cells": [
  {
   "cell_type": "markdown",
   "id": "02914bcc-4ad6-4a2b-b898-7dd7d451ae9e",
   "metadata": {},
   "source": [
    "## define 3 functions \"add()\",\"modify()\" and \"delete()\" with just a print message.\r",
    "## \n",
    "now accept input from user as a number. if the number entered is 1, call \"add()\"## \r\n",
    "if it is 2, call \"modify()\" if it is 3, call \"delete()\" [ hint: use \"match... case\" ]"
   ]
  },
  {
   "cell_type": "code",
   "execution_count": 1,
   "id": "effd434b-f3ef-42b8-9650-0abd77a0cc3f",
   "metadata": {},
   "outputs": [
    {
     "name": "stdin",
     "output_type": "stream",
     "text": [
      "Enter a number (1 for add, 2 for modify, 3 for delete):  0\n"
     ]
    },
    {
     "name": "stdout",
     "output_type": "stream",
     "text": [
      "Invalid option entered.\n"
     ]
    }
   ],
   "source": [
    "def add():\n",
    "    print(\" the Adding item...\")\n",
    "def modify():\n",
    "    print(\"the Modifying item...\")\n",
    "def delete():\n",
    "    print(\"the Deleting item...\")\n",
    "option = int(input(\"Enter a number (1 for add, 2 for modify, 3 for delete): \"))\n",
    "\n",
    "match option:\n",
    "    case 1:\n",
    "        add()\n",
    "    case 2:\n",
    "        modify()\n",
    "    case 3:\n",
    "        delete()\n",
    "    case _:\n",
    "        print(\"Invalid option entered.\")\n"
   ]
  },
  {
   "cell_type": "markdown",
   "id": "61294180-35a3-41aa-a3fb-e46c5e3c0f9b",
   "metadata": {},
   "source": [
    "## 2) define a function which accepts a number and return its square."
   ]
  },
  {
   "cell_type": "code",
   "execution_count": 2,
   "id": "5afa75fb-3b38-48a9-8355-fd52acbc8b00",
   "metadata": {},
   "outputs": [
    {
     "name": "stdin",
     "output_type": "stream",
     "text": [
      "Enter a number:  55\n"
     ]
    },
    {
     "name": "stdout",
     "output_type": "stream",
     "text": [
      "The square of 55.0 is 3025.0\n"
     ]
    }
   ],
   "source": [
    "def square(num):\n",
    "    return num * num\n",
    "\n",
    "number = float(input(\"Enter a number: \"))  \n",
    "result = square(number)  \n",
    "print(\"The square of\", number, \"is\", result)\n"
   ]
  },
  {
   "cell_type": "code",
   "execution_count": 3,
   "id": "ba5436a8-ff17-484c-99c8-8e34884137ec",
   "metadata": {},
   "outputs": [],
   "source": [
    "## 3) define a function which accepts character,int,string and display them."
   ]
  },
  {
   "cell_type": "code",
   "execution_count": 4,
   "id": "2a27a65a-0424-4fdb-80b9-2e9c8d57e555",
   "metadata": {},
   "outputs": [
    {
     "name": "stdin",
     "output_type": "stream",
     "text": [
      "Enter a character:  s\n",
      "Enter an integer:  5\n",
      "Enter a string:  5\n"
     ]
    },
    {
     "name": "stdout",
     "output_type": "stream",
     "text": [
      "Character: s\n",
      "Integer: 5\n",
      "String: 5\n"
     ]
    }
   ],
   "source": [
    "def display(char, num, string):\n",
    "    print(\"Character:\", char)\n",
    "    print(\"Integer:\", num)\n",
    "    print(\"String:\", string)\n",
    "\n",
    "char_input = input(\"Enter a character: \") \n",
    "num_input = int(input(\"Enter an integer: \")) \n",
    "string_input = input(\"Enter a string: \")  \n",
    "display(char_input, num_input, string_input)\n"
   ]
  },
  {
   "cell_type": "code",
   "execution_count": 5,
   "id": "ae6fd389-f7f5-4c27-ae78-8af9b498d4e2",
   "metadata": {},
   "outputs": [],
   "source": [
    "## 4) define \"myfun1()\" with a print statement. now define \"myfun2()\" which should invoke \"myfun1()\" function. \n",
    "## invoke myfun2()"
   ]
  },
  {
   "cell_type": "code",
   "execution_count": 6,
   "id": "ae0e46f6-831d-455d-ba78-e81fc97d31a3",
   "metadata": {},
   "outputs": [
    {
     "name": "stdout",
     "output_type": "stream",
     "text": [
      "Inside myfun2()\n",
      "Inside myfun1()\n"
     ]
    }
   ],
   "source": [
    "def myfun1():\n",
    "    print(\"Inside myfun1()\")\n",
    "\n",
    "def myfun2():\n",
    "    print(\"Inside myfun2()\")\n",
    "    myfun1() \n",
    "\n",
    "myfun2()\n"
   ]
  },
  {
   "cell_type": "code",
   "execution_count": 7,
   "id": "ca81417f-0f64-4212-860f-a0b9381e0834",
   "metadata": {},
   "outputs": [],
   "source": [
    "## 5) define a function to accept a number. This function should return 1 if a number passed is more than 0\n",
    "##  return -1 if a number passed is less than 0 , else it should return 0."
   ]
  },
  {
   "cell_type": "code",
   "execution_count": 8,
   "id": "614bb4f3-f289-46f3-a8a8-70d9d8eb880c",
   "metadata": {},
   "outputs": [
    {
     "name": "stdin",
     "output_type": "stream",
     "text": [
      "Enter a number:  5\n"
     ]
    },
    {
     "name": "stdout",
     "output_type": "stream",
     "text": [
      "Result: 1\n"
     ]
    }
   ],
   "source": [
    "def check_number(num):\n",
    "    if num > 0:\n",
    "        return 1\n",
    "    elif num < 0:\n",
    "        return -1\n",
    "    else:\n",
    "        return 0\n",
    "\n",
    "number = float(input(\"Enter a number: \"))  \n",
    "result = check_number(number)  \n",
    "print(\"Result:\", result)\n"
   ]
  },
  {
   "cell_type": "code",
   "execution_count": 9,
   "id": "c6e23ca8-a792-42ad-99f6-517888354ed5",
   "metadata": {},
   "outputs": [],
   "source": [
    "## 6) define a function which accepts a character and return toggle of it. "
   ]
  },
  {
   "cell_type": "code",
   "execution_count": 10,
   "id": "602d24f2-e982-41ff-a835-fc73741b4322",
   "metadata": {},
   "outputs": [
    {
     "name": "stdin",
     "output_type": "stream",
     "text": [
      "Enter a character:  s\n"
     ]
    },
    {
     "name": "stdout",
     "output_type": "stream",
     "text": [
      "Toggled character: S\n"
     ]
    }
   ],
   "source": [
    "def toggle_case(char):\n",
    "    if char.isupper():\n",
    "        return char.lower()\n",
    "    elif char.islower():\n",
    "        return char.upper()\n",
    "    else:\n",
    "        return char\n",
    "\n",
    "character = input(\"Enter a character: \")  \n",
    "result = toggle_case(character) \n",
    "print(\"Toggled character:\", result)\n"
   ]
  },
  {
   "cell_type": "code",
   "execution_count": null,
   "id": "72bd20ae-5ae2-48d7-9b89-25d31e1ac78e",
   "metadata": {},
   "outputs": [],
   "source": []
  },
  {
   "cell_type": "code",
   "execution_count": 11,
   "id": "ceaa8f94-a92e-400e-88cd-db98370fd585",
   "metadata": {},
   "outputs": [
    {
     "name": "stdin",
     "output_type": "stream",
     "text": [
      "Enter a string:  ss\n"
     ]
    },
    {
     "name": "stdout",
     "output_type": "stream",
     "text": [
      "Toggled string: SS\n"
     ]
    }
   ],
   "source": [
    "def toggle_string(string):\n",
    "    return string.swapcase()\n",
    "\n",
    "input_string = input(\"Enter a string: \") \n",
    "result = toggle_string(input_string)  \n",
    "print(\"Toggled string:\", result)\n"
   ]
  },
  {
   "cell_type": "code",
   "execution_count": null,
   "id": "5555eb72-1343-4741-8646-2542d230be07",
   "metadata": {},
   "outputs": [],
   "source": []
  },
  {
   "cell_type": "code",
   "execution_count": 15,
   "id": "0d8d102f-bb7b-4ee0-8673-1e88f0f24473",
   "metadata": {},
   "outputs": [],
   "source": [
    "## write a function to accept minimum 3 characters and maximum 5 characters. \n",
    "\t"
   ]
  },
  {
   "cell_type": "code",
   "execution_count": 14,
   "id": "815a82f3-6afa-4b95-a316-f62c7ca52483",
   "metadata": {},
   "outputs": [
    {
     "name": "stdin",
     "output_type": "stream",
     "text": [
      "Enter a string (minimum 3 characters, maximum 5 characters):  aha\n"
     ]
    },
    {
     "name": "stdout",
     "output_type": "stream",
     "text": [
      "Input accepted!\n"
     ]
    }
   ],
   "source": [
    "def accept_characters(input_string, min_length=3, max_length=5):\n",
    "    if min_length <= len(input_string) <= max_length:\n",
    "        return True\n",
    "    else:\n",
    "        return False\n",
    "\n",
    "user_input = input(\"Enter a string (minimum 3 characters, maximum 5 characters): \")\n",
    "if accept_characters(user_input):\n",
    "    print(\"Input accepted!\")\n",
    "else:\n",
    "    print(\"Input does not meet the criteria.\")\n"
   ]
  },
  {
   "cell_type": "code",
   "execution_count": 16,
   "id": "01f212f5-9cca-4539-901e-c0af94a3c560",
   "metadata": {},
   "outputs": [],
   "source": [
    "\n",
    "## 9) define a function in such a way that it can accept n number of values and print their sum."
   ]
  },
  {
   "cell_type": "code",
   "execution_count": 19,
   "id": "e2ec5c5d-c8a7-4111-8bef-ba4442e8b54c",
   "metadata": {},
   "outputs": [
    {
     "name": "stdout",
     "output_type": "stream",
     "text": [
      "The sum of the values is: 49\n"
     ]
    }
   ],
   "source": [
    "def calculate_sum(*args):\n",
    "    total = sum(args)\n",
    "    print(\"The sum of the values is:\", total)\n",
    "calculate_sum(1, 3, 5, 7, 9, 11, 13) \n"
   ]
  },
  {
   "cell_type": "code",
   "execution_count": null,
   "id": "6a35af53-b6d4-4635-9403-c0e544564153",
   "metadata": {},
   "outputs": [],
   "source": []
  }
 ],
 "metadata": {
  "kernelspec": {
   "display_name": "Python 3 (ipykernel)",
   "language": "python",
   "name": "python3"
  },
  "language_info": {
   "codemirror_mode": {
    "name": "ipython",
    "version": 3
   },
   "file_extension": ".py",
   "mimetype": "text/x-python",
   "name": "python",
   "nbconvert_exporter": "python",
   "pygments_lexer": "ipython3",
   "version": "3.11.5"
  }
 },
 "nbformat": 4,
 "nbformat_minor": 5
}
