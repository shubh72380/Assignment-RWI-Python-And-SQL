{
 "cells": [
  {
   "cell_type": "code",
   "execution_count": 14,
   "id": "2b93965d-e710-4175-92d6-a41ad4671372",
   "metadata": {
    "scrolled": true
   },
   "outputs": [
    {
     "data": {
      "text/plain": [
       "' 1) define a class Employee with\\n\\tempid,empname and desig\\nas instance members \\nparameterized and default constructors\\n__str__ method\\n\\ncreate 3 objects with/without passing values and then print their references.'"
      ]
     },
     "execution_count": 14,
     "metadata": {},
     "output_type": "execute_result"
    }
   ],
   "source": [
    "''' 1) define a class Employee with\n",
    "\tempid,empname and desig\n",
    "as instance members \n",
    "parameterized and default constructors\n",
    "__str__ method\n",
    "\n",
    "create 3 objects with/without passing values and then print their references.'''"
   ]
  },
  {
   "cell_type": "code",
   "execution_count": 18,
   "id": "4d5d8184-15a0-4712-b0f8-4c89e83baa64",
   "metadata": {},
   "outputs": [
    {
     "name": "stdout",
     "output_type": "stream",
     "text": [
      "References of objects with default constructor:\n",
      "Employee ID: None, Employee Name: None, Designation: None\n",
      "Employee ID: None, Employee Name: None, Designation: None\n",
      "Employee ID: None, Employee Name: None, Designation: None\n",
      "\n",
      "References of objects with parameterized constructor:\n",
      "Employee ID: 101, Employee Name: Raja  Kumar, Designation: Manager\n",
      "Employee ID: 102, Employee Name: Shbhankar, Designation: Developer\n",
      "Employee ID: 103, Employee Name: anmol singh , Designation: Tester\n"
     ]
    }
   ],
   "source": [
    "class Employee:\n",
    "    def __init__(self, empid=None, empname=None, desig=None):\n",
    "        self.empid = empid\n",
    "        self.empname = empname\n",
    "        self.desig = desig\n",
    "\n",
    "    def __str__(self):\n",
    "        return f\"Employee ID: {self.empid}, Employee Name: {self.empname}, Designation: {self.desig}\"\n",
    "\n",
    "emp1 = Employee()\n",
    "emp2 = Employee()\n",
    "emp3 = Employee()\n",
    "\n",
    "print(\"References of objects with default constructor:\")\n",
    "print(emp1)\n",
    "print(emp2)\n",
    "print(emp3)\n",
    "\n",
    "emp4 = Employee(101, \"Raja  Kumar\", \"Manager\")\n",
    "emp5 = Employee(102, \"Shbhankar\", \"Developer\")\n",
    "emp6 = Employee(103, \"anmol singh \", \"Tester\")\n",
    "\n",
    "print(\"\\nReferences of objects with parameterized constructor:\")\n",
    "print(emp4)\n",
    "print(emp5)\n",
    "print(emp6)\n"
   ]
  },
  {
   "cell_type": "code",
   "execution_count": null,
   "id": "fa831708-30eb-43ab-aa4f-eb1c8ebe7bf7",
   "metadata": {},
   "outputs": [],
   "source": []
  },
  {
   "cell_type": "code",
   "execution_count": 20,
   "id": "58d46637-8014-4789-a16a-216095e55a4d",
   "metadata": {},
   "outputs": [
    {
     "name": "stdout",
     "output_type": "stream",
     "text": [
      "Number of objects created: 3\n"
     ]
    }
   ],
   "source": [
    "class ObjectCounter:\n",
    "    count = 0\n",
    "\n",
    "    def __init__(self):\n",
    "        ObjectCounter.count += 1\n",
    "\n",
    "    @staticmethod\n",
    "    def display_count():\n",
    "        print(\"Number of objects created:\", ObjectCounter.count)\n",
    "\n",
    "obj1 = ObjectCounter()\n",
    "obj2 = ObjectCounter()\n",
    "obj3 = ObjectCounter()\n",
    "\n",
    "ObjectCounter.display_count()  "
   ]
  },
  {
   "cell_type": "code",
   "execution_count": null,
   "id": "909f3672-7543-480a-8c7c-2f502cac623c",
   "metadata": {},
   "outputs": [],
   "source": []
  },
  {
   "cell_type": "code",
   "execution_count": 16,
   "id": "261e8913-5f62-446a-a7b5-9b25d1219418",
   "metadata": {},
   "outputs": [
    {
     "data": {
      "text/plain": [
       "'2) write object counter program.\\n\\n3) create an outer class \"Human\" with name and gender are the instance members, parameterized constructor and __str__ function\\ncreate an inner class \"Register\" with username and password.\\nalso have __str__ function inside it.\\n\\ncreate an object of \"Human\" and invoke its member function.\\ncreate an object of \"Register\" and invoke its member function.'"
      ]
     },
     "execution_count": 16,
     "metadata": {},
     "output_type": "execute_result"
    }
   ],
   "source": [
    "'''\n",
    "3) create an outer class \"Human\" with name and gender are the instance members, parameterized constructor and __str__ function\n",
    "create an inner class \"Register\" with username and password.\n",
    "also have __str__ function inside it.\n",
    "\n",
    "create an object of \"Human\" and invoke its member function.\n",
    "create an object of \"Register\" and invoke its member function.'''"
   ]
  },
  {
   "cell_type": "code",
   "execution_count": null,
   "id": "30607fd4-d51d-4f78-b705-4b9a488e2efd",
   "metadata": {},
   "outputs": [],
   "source": []
  },
  {
   "cell_type": "code",
   "execution_count": 21,
   "id": "5f8a73aa-48dc-4538-b004-97b358afd7fb",
   "metadata": {},
   "outputs": [
    {
     "name": "stdout",
     "output_type": "stream",
     "text": [
      "Name: Black, Gender: Male\n",
      "Username: Blacksmith, Password: Shubhankar\n"
     ]
    }
   ],
   "source": [
    "class Human:\n",
    "    def __init__(self, name, gender):\n",
    "        self.name = name\n",
    "        self.gender = gender\n",
    "\n",
    "    def __str__(self):\n",
    "        return f\"Name: {self.name}, Gender: {self.gender}\"\n",
    "\n",
    "    class Register:\n",
    "        def __init__(self, username, password):\n",
    "            self.username = username\n",
    "            self.password = password\n",
    "\n",
    "        def __str__(self):\n",
    "            return f\"Username: {self.username}, Password: {self.password}\"\n",
    "\n",
    "human_obj = Human(\"Black\", \"Male\")\n",
    "print(human_obj)  \n",
    "register_obj = Human.Register(\"Blacksmith\", \"Shubhankar\")\n",
    "print(register_obj)  "
   ]
  },
  {
   "cell_type": "code",
   "execution_count": null,
   "id": "f5a010c2-1a5f-4251-8c10-49e0cc715a13",
   "metadata": {},
   "outputs": [],
   "source": []
  }
 ],
 "metadata": {
  "kernelspec": {
   "display_name": "Python 3 (ipykernel)",
   "language": "python",
   "name": "python3"
  },
  "language_info": {
   "codemirror_mode": {
    "name": "ipython",
    "version": 3
   },
   "file_extension": ".py",
   "mimetype": "text/x-python",
   "name": "python",
   "nbconvert_exporter": "python",
   "pygments_lexer": "ipython3",
   "version": "3.11.5"
  }
 },
 "nbformat": 4,
 "nbformat_minor": 5
}
