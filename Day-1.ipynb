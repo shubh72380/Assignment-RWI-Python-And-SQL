{
 "cells": [
  {
   "cell_type": "markdown",
   "id": "2995e14e-0d0b-47c8-ba96-669fb5e11516",
   "metadata": {},
   "source": [
    "##  \tQuestion 1-accept a number and display its table.           \r\n"
   ]
  },
  {
   "cell_type": "code",
   "execution_count": 1,
   "id": "0d450404-e850-4cde-b191-b7d30fb04824",
   "metadata": {},
   "outputs": [
    {
     "name": "stdin",
     "output_type": "stream",
     "text": [
      "Enter a number:  5\n"
     ]
    },
    {
     "name": "stdout",
     "output_type": "stream",
     "text": [
      "Table of number 5\n",
      "5 * 1\n",
      "5 * 2\n",
      "5 * 3\n",
      "5 * 4\n",
      "5 * 5\n",
      "5 * 6\n",
      "5 * 7\n",
      "5 * 8\n",
      "5 * 9\n",
      "5 * 10\n"
     ]
    }
   ],
   "source": [
    "def display_table(number):\n",
    "    print(\"Table of number\",number)\n",
    "    for i in range(1, 11):\n",
    "        print(number ,\"*\" , i )\n",
    "\n",
    "num = int(input(\"Enter a number: \"))\n",
    "\n",
    "display_table(num)\n"
   ]
  },
  {
   "cell_type": "markdown",
   "id": "af0c8df5-6ae9-4b7d-9824-165446cdae6c",
   "metadata": {},
   "source": [
    "## Questions 2)\tusing switch ….case   display whether accepted character is vowel or not.\r\n"
   ]
  },
  {
   "cell_type": "code",
   "execution_count": 2,
   "id": "94673ed8-77f2-4d12-be1b-3999609130b5",
   "metadata": {},
   "outputs": [
    {
     "name": "stdin",
     "output_type": "stream",
     "text": [
      "Enter a character:  3\n"
     ]
    },
    {
     "name": "stdout",
     "output_type": "stream",
     "text": [
      "3 is not a vowel.\n"
     ]
    }
   ],
   "source": [
    "def check_vowel(char):\n",
    "    vowels = 'aeiouAEIOU'\n",
    "    if char in vowels:\n",
    "        print(f\"{char} is a vowel.\")\n",
    "    else:\n",
    "        print(f\"{char} is not a vowel.\")\n",
    "\n",
    "character = input(\"Enter a character: \")\n",
    "\n",
    "check_vowel(character)\n"
   ]
  },
  {
   "cell_type": "markdown",
   "id": "80f15913-185b-4cae-93ab-52e7842047e8",
   "metadata": {},
   "source": [
    "## 3)\tDisplay numbers  1 to 10 using  While loop\n"
   ]
  },
  {
   "cell_type": "code",
   "execution_count": 3,
   "id": "27e13043-27e6-440a-8b6b-8f9cb6e501f6",
   "metadata": {},
   "outputs": [
    {
     "name": "stdout",
     "output_type": "stream",
     "text": [
      "1\n",
      "2\n",
      "3\n",
      "4\n",
      "5\n",
      "6\n",
      "7\n",
      "8\n",
      "9\n",
      "10\n"
     ]
    }
   ],
   "source": [
    "num=1\n",
    "while num<=10:\n",
    "    print(num)\n",
    "    num+=1\n"
   ]
  },
  {
   "cell_type": "code",
   "execution_count": 4,
   "id": "44f166c3-2d58-4764-be81-0e083286a7da",
   "metadata": {},
   "outputs": [
    {
     "name": "stdout",
     "output_type": "stream",
     "text": [
      "3\n",
      "4\n",
      "5\n",
      "6\n",
      "7\n",
      "8\n",
      "9\n",
      "10\n",
      "11\n",
      "12\n",
      "13\n",
      "14\n",
      "15\n",
      "16\n",
      "17\n",
      "18\n",
      "19\n",
      "20\n",
      "21\n",
      "22\n",
      "23\n",
      "25\n",
      "26\n",
      "27\n",
      "28\n",
      "29\n",
      "30\n"
     ]
    }
   ],
   "source": [
    "num=3\n",
    "while num<=30:\n",
    "    if num!=24:\n",
    "        print(num)\n",
    "    num=num+1"
   ]
  },
  {
   "cell_type": "code",
   "execution_count": 5,
   "id": "efefdd8a-ecea-4d35-b9c3-be23f58819c3",
   "metadata": {},
   "outputs": [
    {
     "name": "stdin",
     "output_type": "stream",
     "text": [
      "marks is  3\n"
     ]
    },
    {
     "name": "stdout",
     "output_type": "stream",
     "text": [
      "fail\n"
     ]
    }
   ],
   "source": [
    "marks=int(input(\"marks is \"))\n",
    "\n",
    "if marks>90:\n",
    "    print(\"Result Distinction\")\n",
    "elif  marks>70:\n",
    "    print(\"Result First Class\")\n",
    "elif marks>50:\n",
    "    print(\"Result Second  Class\")\n",
    "elif marks>33:\n",
    "    print(\"Pass\")\n",
    "else:\n",
    "    print(\"fail\")\n"
   ]
  },
  {
   "cell_type": "markdown",
   "id": "4ce3906d-8a18-48c3-a3d6-2f76952698de",
   "metadata": {},
   "source": [
    " ## questions -print the total of first 10 numbers."
   ]
  },
  {
   "cell_type": "code",
   "execution_count": 6,
   "id": "3d538130-3484-470c-b073-96c4d4e281ba",
   "metadata": {},
   "outputs": [
    {
     "name": "stdout",
     "output_type": "stream",
     "text": [
      "55\n"
     ]
    }
   ],
   "source": [
    " sum=0\n",
    "for i in range(1,11):\n",
    "    sum=sum+i\n",
    "print(sum)"
   ]
  },
  {
   "cell_type": "markdown",
   "id": "2572cc80-1a65-455f-9092-36a8fc2948cc",
   "metadata": {},
   "source": [
    "## 7) accept numbers till user enters 0 and display the total of all the numbers entered.\r\n"
   ]
  },
  {
   "cell_type": "code",
   "execution_count": 7,
   "id": "3e573b91-1e56-430a-ad37-837e9fcb5dca",
   "metadata": {},
   "outputs": [
    {
     "name": "stdin",
     "output_type": "stream",
     "text": [
      "Enter a number (enter 0 to finish):  3\n",
      "Enter a number (enter 0 to finish):  3\n",
      "Enter a number (enter 0 to finish):  0\n"
     ]
    },
    {
     "name": "stdout",
     "output_type": "stream",
     "text": [
      "The total of all the numbers entered is: 6\n"
     ]
    }
   ],
   "source": [
    "total = 0\n",
    "while True:\n",
    "    num = int(input(\"Enter a number (enter 0 to finish): \"))\n",
    "    if num == 0:\n",
    "        break\n",
    "    total += num\n",
    "print(\"The total of all the numbers entered is:\", total)\n"
   ]
  },
  {
   "cell_type": "markdown",
   "id": "5f56280c-54e6-490c-90aa-d8ce28018fbf",
   "metadata": {},
   "source": [
    "##   8) accept a character and display whether it is upper case or lower case or not an alphabet.\n"
   ]
  },
  {
   "cell_type": "code",
   "execution_count": 8,
   "id": "39fe477d-84bf-41f6-a68a-afff831e727e",
   "metadata": {},
   "outputs": [
    {
     "name": "stdin",
     "output_type": "stream",
     "text": [
      "Enter a character:  jj\n"
     ]
    },
    {
     "name": "stdout",
     "output_type": "stream",
     "text": [
      "The character entered is lowercase.\n"
     ]
    }
   ],
   "source": [
    "char = input(\"Enter a character: \")\n",
    "\n",
    "if char.isalpha():\n",
    "    if char.isupper():\n",
    "        print(\"The character entered is uppercase.\")\n",
    "    elif char.islower():\n",
    "        print(\"The character entered is lowercase.\")\n",
    "else:\n",
    "    print(\"The character entered is not an alphabet.\")\n"
   ]
  },
  {
   "cell_type": "markdown",
   "id": "e91d8a7c-e9f8-4871-87a0-b424e6c348f2",
   "metadata": {},
   "source": [
    "## 9) display fibonicii series of 10 numbers\r\n"
   ]
  },
  {
   "cell_type": "code",
   "execution_count": 11,
   "id": "e25650ff-629a-4d1c-8b38-b04c6969dd87",
   "metadata": {},
   "outputs": [
    {
     "name": "stdout",
     "output_type": "stream",
     "text": [
      "0\n",
      "1\n",
      "1\n",
      "2\n",
      "3\n",
      "5\n",
      "8\n",
      "13\n",
      "21\n",
      "34\n"
     ]
    }
   ],
   "source": [
    "a, b = 0, 1\n",
    "\n",
    "print(a)\n",
    "print(b)\n",
    "\n",
    "for _ in range(8):\n",
    "    c = a + b\n",
    "    print(c)\n",
    "    a, b = b, c\n"
   ]
  },
  {
   "cell_type": "markdown",
   "id": "a42128d2-1190-4c65-bf7e-50645d0132e3",
   "metadata": {},
   "source": [
    "## display prime numbers from 3 to 30"
   ]
  },
  {
   "cell_type": "code",
   "execution_count": 16,
   "id": "a26bf134-0d0f-41f2-94ef-9dbe7c6f6a96",
   "metadata": {},
   "outputs": [
    {
     "name": "stdout",
     "output_type": "stream",
     "text": [
      "Prime numbers from 3 to 30:\n",
      "3\n",
      "5\n",
      "7\n",
      "11\n",
      "13\n",
      "17\n",
      "19\n",
      "23\n",
      "29\n"
     ]
    }
   ],
   "source": [
    "print(\"Prime numbers from 3 to 30:\")\n",
    "for num in range(3, 31):\n",
    "    if num > 1:\n",
    "        for i in range(2, int(num**0.5) + 1):\n",
    "            if (num % i) == 0:\n",
    "                break\n",
    "        else:\n",
    "            print(num)\n"
   ]
  },
  {
   "cell_type": "markdown",
   "id": "e0217860-b5e4-40a3-a22f-69eb3f33b98d",
   "metadata": {},
   "source": [
    "## accept a number and display whether it is prime or not"
   ]
  },
  {
   "cell_type": "code",
   "execution_count": 17,
   "id": "0fc8e1db-a9bb-4661-b351-27ad6f9bbbb9",
   "metadata": {},
   "outputs": [
    {
     "name": "stdin",
     "output_type": "stream",
     "text": [
      "Enter a number:  45\n"
     ]
    },
    {
     "name": "stdout",
     "output_type": "stream",
     "text": [
      "45 is not a prime number.\n"
     ]
    }
   ],
   "source": [
    "num = int(input(\"Enter a number: \"))\n",
    "if num > 1:\n",
    "    for i in range(2, int(num**0.5) + 1):\n",
    "        if num % i == 0:\n",
    "            print(num, \"is not a prime number.\")\n",
    "            break\n",
    "    else:\n",
    "        print(num, \"is a prime number.\")\n",
    "else:\n",
    "    print(num, \"is not a prime number.\")\n"
   ]
  },
  {
   "cell_type": "markdown",
   "id": "1a98c7a5-67f2-4569-a87b-204ebd5453b8",
   "metadata": {},
   "source": [
    "## print the following pattern:\n"
   ]
  },
  {
   "cell_type": "code",
   "execution_count": 20,
   "id": "3cbab3aa-35a8-411f-9668-4cf5370b1aec",
   "metadata": {},
   "outputs": [
    {
     "name": "stdout",
     "output_type": "stream",
     "text": [
      "* \n",
      "* * \n",
      "* * * \n",
      "* * * * \n",
      "* * * * * \n"
     ]
    }
   ],
   "source": [
    "rows = 5\n",
    "\n",
    "for i in range(rows):\n",
    "    for j in range(i + 1):\n",
    "        print(\"*\", end=\" \")\n",
    "    print()\n"
   ]
  },
  {
   "cell_type": "markdown",
   "id": "739038b2-0a93-429b-8895-87f52fb525e0",
   "metadata": {},
   "source": [
    "## PATTERN STAR"
   ]
  },
  {
   "cell_type": "code",
   "execution_count": 23,
   "id": "b58511da-adf5-4f07-a37a-283d11408182",
   "metadata": {},
   "outputs": [
    {
     "name": "stdout",
     "output_type": "stream",
     "text": [
      "* * * * * * * * * * * * * * * * * * * * * * * * * * * * * * * * \n",
      "* * * * * * * * * * * * * * * * * * * * * * * * * * * * * * * \n",
      "* * * * * * * * * * * * * * * * * * * * * * * * * * * * * * \n",
      "* * * * * * * * * * * * * * * * * * * * * * * * * * * * * \n",
      "* * * * * * * * * * * * * * * * * * * * * * * * * * * * \n",
      "* * * * * * * * * * * * * * * * * * * * * * * * * * * \n",
      "* * * * * * * * * * * * * * * * * * * * * * * * * * \n",
      "* * * * * * * * * * * * * * * * * * * * * * * * * \n",
      "* * * * * * * * * * * * * * * * * * * * * * * * \n",
      "* * * * * * * * * * * * * * * * * * * * * * * \n",
      "* * * * * * * * * * * * * * * * * * * * * * \n",
      "* * * * * * * * * * * * * * * * * * * * * \n",
      "* * * * * * * * * * * * * * * * * * * * \n",
      "* * * * * * * * * * * * * * * * * * * \n",
      "* * * * * * * * * * * * * * * * * * \n",
      "* * * * * * * * * * * * * * * * * \n",
      "* * * * * * * * * * * * * * * * \n",
      "* * * * * * * * * * * * * * * \n",
      "* * * * * * * * * * * * * * \n",
      "* * * * * * * * * * * * * \n",
      "* * * * * * * * * * * * \n",
      "* * * * * * * * * * * \n",
      "* * * * * * * * * * \n",
      "* * * * * * * * * \n",
      "* * * * * * * * \n",
      "* * * * * * * \n",
      "* * * * * * \n",
      "* * * * * \n",
      "* * * * \n",
      "* * * \n",
      "* * \n",
      "* \n"
     ]
    }
   ],
   "source": [
    "rows = 32\n",
    "\n",
    "for i in range(rows, 0, -1):\n",
    "    for j in range(i):\n",
    "        print(\"*\", end=\" \")\n",
    "    print()\n"
   ]
  },
  {
   "cell_type": "code",
   "execution_count": null,
   "id": "f1be6b77-11c3-43e6-b0dc-9d4d97b12f95",
   "metadata": {},
   "outputs": [],
   "source": []
  },
  {
   "cell_type": "code",
   "execution_count": 22,
   "id": "044c6a33-68fe-4495-bf90-c0903d63b7c0",
   "metadata": {},
   "outputs": [
    {
     "name": "stdout",
     "output_type": "stream",
     "text": [
      "              * \n",
      "             * * \n",
      "            * * * \n",
      "           * * * * \n",
      "          * * * * * \n",
      "         * * * * * * \n",
      "        * * * * * * * \n",
      "       * * * * * * * * \n",
      "      * * * * * * * * * \n",
      "     * * * * * * * * * * \n",
      "    * * * * * * * * * * * \n",
      "   * * * * * * * * * * * * \n",
      "  * * * * * * * * * * * * * \n",
      " * * * * * * * * * * * * * * \n",
      "* * * * * * * * * * * * * * * \n"
     ]
    }
   ],
   "source": [
    "rows = 15\n",
    "\n",
    "for i in range(1, rows + 1):\n",
    "    print(\" \" * (rows - i), end=\"\")\n",
    "    \n",
    "    for j in range(i):\n",
    "        print(\"* \", end=\"\")\n",
    "    \n",
    "    print()\n"
   ]
  },
  {
   "cell_type": "code",
   "execution_count": 25,
   "id": "376b3c0e-eaab-4ab5-8ac1-f9122fe2136e",
   "metadata": {},
   "outputs": [
    {
     "name": "stdout",
     "output_type": "stream",
     "text": [
      "                                            * \n",
      "                                           * * \n",
      "                                          * * * \n",
      "                                         * * * * \n",
      "                                        * * * * * \n",
      "                                       * * * * * * \n",
      "                                      * * * * * * * \n",
      "                                     * * * * * * * * \n",
      "                                    * * * * * * * * * \n",
      "                                   * * * * * * * * * * \n",
      "                                  * * * * * * * * * * * \n",
      "                                 * * * * * * * * * * * * \n",
      "                                * * * * * * * * * * * * * \n",
      "                               * * * * * * * * * * * * * * \n",
      "                              * * * * * * * * * * * * * * * \n",
      "                             * * * * * * * * * * * * * * * * \n",
      "                            * * * * * * * * * * * * * * * * * \n",
      "                           * * * * * * * * * * * * * * * * * * \n",
      "                          * * * * * * * * * * * * * * * * * * * \n",
      "                         * * * * * * * * * * * * * * * * * * * * \n",
      "                        * * * * * * * * * * * * * * * * * * * * * \n",
      "                       * * * * * * * * * * * * * * * * * * * * * * \n",
      "                      * * * * * * * * * * * * * * * * * * * * * * * \n",
      "                     * * * * * * * * * * * * * * * * * * * * * * * * \n",
      "                    * * * * * * * * * * * * * * * * * * * * * * * * * \n",
      "                   * * * * * * * * * * * * * * * * * * * * * * * * * * \n",
      "                  * * * * * * * * * * * * * * * * * * * * * * * * * * * \n",
      "                 * * * * * * * * * * * * * * * * * * * * * * * * * * * * \n",
      "                * * * * * * * * * * * * * * * * * * * * * * * * * * * * * \n",
      "               * * * * * * * * * * * * * * * * * * * * * * * * * * * * * * \n",
      "              * * * * * * * * * * * * * * * * * * * * * * * * * * * * * * * \n",
      "             * * * * * * * * * * * * * * * * * * * * * * * * * * * * * * * * \n",
      "            * * * * * * * * * * * * * * * * * * * * * * * * * * * * * * * * * \n",
      "           * * * * * * * * * * * * * * * * * * * * * * * * * * * * * * * * * * \n",
      "          * * * * * * * * * * * * * * * * * * * * * * * * * * * * * * * * * * * \n",
      "         * * * * * * * * * * * * * * * * * * * * * * * * * * * * * * * * * * * * \n",
      "        * * * * * * * * * * * * * * * * * * * * * * * * * * * * * * * * * * * * * \n",
      "       * * * * * * * * * * * * * * * * * * * * * * * * * * * * * * * * * * * * * * \n",
      "      * * * * * * * * * * * * * * * * * * * * * * * * * * * * * * * * * * * * * * * \n",
      "     * * * * * * * * * * * * * * * * * * * * * * * * * * * * * * * * * * * * * * * * \n",
      "    * * * * * * * * * * * * * * * * * * * * * * * * * * * * * * * * * * * * * * * * * \n",
      "   * * * * * * * * * * * * * * * * * * * * * * * * * * * * * * * * * * * * * * * * * * \n",
      "  * * * * * * * * * * * * * * * * * * * * * * * * * * * * * * * * * * * * * * * * * * * \n",
      " * * * * * * * * * * * * * * * * * * * * * * * * * * * * * * * * * * * * * * * * * * * * \n",
      "* * * * * * * * * * * * * * * * * * * * * * * * * * * * * * * * * * * * * * * * * * * * * \n"
     ]
    }
   ],
   "source": [
    "rows = 45\n",
    "\n",
    "for i in range(rows):\n",
    "    for j in range(rows - i - 1):\n",
    "        print(\" \", end=\"\")\n",
    "    for j in range(i + 1):\n",
    "        print(\"*\", end=\" \")\n",
    "    print()\n"
   ]
  },
  {
   "cell_type": "code",
   "execution_count": 27,
   "id": "0cfc9397-a7f1-409a-bf56-8537d1cd0a73",
   "metadata": {},
   "outputs": [
    {
     "name": "stdout",
     "output_type": "stream",
     "text": [
      "* * * * * * * * * * * * * * * * * * * * * * * * * * * * * * * \n",
      " * * * * * * * * * * * * * * * * * * * * * * * * * * * * * * \n",
      "  * * * * * * * * * * * * * * * * * * * * * * * * * * * * * \n",
      "   * * * * * * * * * * * * * * * * * * * * * * * * * * * * \n",
      "    * * * * * * * * * * * * * * * * * * * * * * * * * * * \n",
      "     * * * * * * * * * * * * * * * * * * * * * * * * * * \n",
      "      * * * * * * * * * * * * * * * * * * * * * * * * * \n",
      "       * * * * * * * * * * * * * * * * * * * * * * * * \n",
      "        * * * * * * * * * * * * * * * * * * * * * * * \n",
      "         * * * * * * * * * * * * * * * * * * * * * * \n",
      "          * * * * * * * * * * * * * * * * * * * * * \n",
      "           * * * * * * * * * * * * * * * * * * * * \n",
      "            * * * * * * * * * * * * * * * * * * * \n",
      "             * * * * * * * * * * * * * * * * * * \n",
      "              * * * * * * * * * * * * * * * * * \n",
      "               * * * * * * * * * * * * * * * * \n",
      "                * * * * * * * * * * * * * * * \n",
      "                 * * * * * * * * * * * * * * \n",
      "                  * * * * * * * * * * * * * \n",
      "                   * * * * * * * * * * * * \n",
      "                    * * * * * * * * * * * \n",
      "                     * * * * * * * * * * \n",
      "                      * * * * * * * * * \n",
      "                       * * * * * * * * \n",
      "                        * * * * * * * \n",
      "                         * * * * * * \n",
      "                          * * * * * \n",
      "                           * * * * \n",
      "                            * * * \n",
      "                             * * \n",
      "                              * \n"
     ]
    }
   ],
   "source": [
    "rows = 31\n",
    "\n",
    "for i in range(rows):\n",
    "    for j in range(i):\n",
    "        print(\" \", end=\"\")\n",
    "    for j in range(rows - i):\n",
    "        print(\"*\", end=\" \")\n",
    "    print()\n"
   ]
  },
  {
   "cell_type": "code",
   "execution_count": null,
   "id": "1ddba518-4506-4a64-98a8-186065486d64",
   "metadata": {},
   "outputs": [],
   "source": []
  }
 ],
 "metadata": {
  "kernelspec": {
   "display_name": "Python 3 (ipykernel)",
   "language": "python",
   "name": "python3"
  },
  "language_info": {
   "codemirror_mode": {
    "name": "ipython",
    "version": 3
   },
   "file_extension": ".py",
   "mimetype": "text/x-python",
   "name": "python",
   "nbconvert_exporter": "python",
   "pygments_lexer": "ipython3",
   "version": "3.11.5"
  }
 },
 "nbformat": 4,
 "nbformat_minor": 5
}
